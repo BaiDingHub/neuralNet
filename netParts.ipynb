{
 "cells": [
  {
   "cell_type": "code",
   "execution_count": 1,
   "metadata": {},
   "outputs": [],
   "source": [
    "import numpy as np\n",
    "import math"
   ]
  },
  {
   "cell_type": "markdown",
   "metadata": {
    "heading_collapsed": true
   },
   "source": [
    "## FC"
   ]
  },
  {
   "cell_type": "code",
   "execution_count": null,
   "metadata": {
    "code_folding": [
     0
    ],
    "hidden": true
   },
   "outputs": [],
   "source": [
    "def affine_forward(x,w,b):\n",
    "    '''\n",
    "    前项传播，H个神经元\n",
    "    输入：\n",
    "    x：(N，D1,D2,D3...)\n",
    "    w:(D,H)\n",
    "    b:(H,)\n",
    "    输出:\n",
    "    out:运算结果,(N,H)\n",
    "    cache:包括，(x,w,b)\n",
    "    '''\n",
    "    x_c = x.reshape((x.shape[0],-1))\n",
    "    out = np.dot(x_c,w) + b\n",
    "    cache = (x,w,b)\n",
    "    return out,cache"
   ]
  },
  {
   "cell_type": "code",
   "execution_count": null,
   "metadata": {
    "code_folding": [
     0
    ],
    "hidden": true
   },
   "outputs": [],
   "source": [
    "def affine_backward(dout,cache):\n",
    "    \"\"\"\n",
    "    反向传播,H个神经元\n",
    "    输入：\n",
    "    dout：该层out的倒数值，（N,H)\n",
    "    cace：该层的（x,w,b)\n",
    "    x：(N，D1,D2,D3...)\n",
    "    w:(D,H)\n",
    "    b:(H,)\n",
    "    输出：\n",
    "    dx，dw,db\n",
    "    dx：(N，D1,D2,D3...)\n",
    "    dw:(D,H)\n",
    "    db:(H,)\n",
    "    \"\"\"\n",
    "    x,w,b = cache\n",
    "    s = x.shape\n",
    "    z = x.reshape((x.shape[0],-1))\n",
    "    dx = np.dot(dout,w.T).reshape(s)\n",
    "    dw = np.dot(z.T,dout)\n",
    "    db = np.sum(dout,axis=0)\n",
    "    return dx,dw,db"
   ]
  },
  {
   "cell_type": "markdown",
   "metadata": {
    "heading_collapsed": true
   },
   "source": [
    "## conv"
   ]
  },
  {
   "cell_type": "code",
   "execution_count": 14,
   "metadata": {
    "code_folding": [
     0
    ],
    "hidden": true
   },
   "outputs": [],
   "source": [
    "def conv_forward_naive(x,w,b,conv_param):\n",
    "    '''\n",
    "    input:\n",
    "    -x:(N,H,W,C)\n",
    "    -w:(F,HH,WW,C)\n",
    "    -b:(F,)\n",
    "    conv_param:一个字典,包含'stride','pad'\n",
    "    \n",
    "    output:\n",
    "    -out:(N,Hout,Wout,F)  其中\n",
    "        Hout = 1+(H + 2*pad - HH)/stride\n",
    "        Wout = 1+(W + 2*pad - WW)/stride\n",
    "    -cache:(x,w,b,conv_param)\n",
    "    \n",
    "    '''\n",
    "    N,H,W,C = x.shape\n",
    "    F,HH,WW,_ = w.shape\n",
    "    stride = conv_param['stride']\n",
    "    pad = conv_param['pad']\n",
    "    Hout = int(1+(H + 2*pad - HH)/stride)\n",
    "    Wout = int(1+(W + 2*pad - WW)/stride)\n",
    "    out = np.zeros((N,Hout,Wout,F))   \n",
    "    \n",
    "    pad_x = np.lib.pad(x,((0,0),(pad,pad),(pad,pad),(0,0)),mode = 'constant',\n",
    "                             constant_values = 0)   #填充X   \n",
    "\n",
    "    for n in range(N):\n",
    "        for f in range(F):\n",
    "            out[n,:,:,f] = np.ones((Hout,Wout)) * b[f]\n",
    "            for i in range(Hout):\n",
    "                for j in range(Wout):\n",
    "                    out[n,i,j,f] += np.sum(pad_x[n,i*stride:i*stride + HH,j*stride:j*stride + WW,:] * w[f])\n",
    "    cache = (x,w,b,conv_param)\n",
    "    return out,cache"
   ]
  },
  {
   "cell_type": "code",
   "execution_count": 15,
   "metadata": {
    "code_folding": [
     0
    ],
    "hidden": true
   },
   "outputs": [],
   "source": [
    "def conv_backward_naive(dout,cache):\n",
    "    '''\n",
    "    input:\n",
    "    -dout:(N,Hout,Wout,F)\n",
    "    -cache:包含(x,w,b,conv_param)\n",
    "    \n",
    "    return:\n",
    "    -dx:(N,H,W,C)\n",
    "    -dw:(F,HH,WW,C)\n",
    "    -db:(F,)\n",
    "    '''\n",
    "    x,w,b,conv_param = cache\n",
    "    stride = conv_param['stride']\n",
    "    pad = conv_param['pad']\n",
    "    N,Hout,Wout,F = dout.shape\n",
    "    N,H,W,C = x.shape\n",
    "    F,HH,WW,_ = w.shape\n",
    "    pad_x = np.lib.pad(x,((0,0),(pad,pad),(pad,pad),(0,0)),mode = 'constant',\n",
    "                             constant_values = 0)   #填充X\n",
    "    pad_dx = np.zeros_like(pad_x)\n",
    "        \n",
    "    dw = np.zeros_like(w)\n",
    "    db = np.zeros_like(b)\n",
    "    \n",
    "    for n in range(N):\n",
    "        for f in range(F):\n",
    "            for i in range(Hout):\n",
    "                for j in range(Wout):\n",
    "                    dw[f] += pad_x[n,i*stride:i*stride + HH,j*stride:j*stride + WW,:] * dout[n,i,j,f]\n",
    "                    db[f] += dout[n,i,j,f]\n",
    "                    pad_dx[n,i*stride:i*stride + HH,j*stride:j*stride + WW,:] += w[f] * dout[n,i,j,f]\n",
    "    dx = pad_dx[:,pad:pad+H,pad:pad+W,:]\n",
    "    return dx,dw,db"
   ]
  },
  {
   "cell_type": "markdown",
   "metadata": {
    "heading_collapsed": true
   },
   "source": [
    "## pooling"
   ]
  },
  {
   "cell_type": "code",
   "execution_count": 22,
   "metadata": {
    "code_folding": [
     0
    ],
    "hidden": true
   },
   "outputs": [],
   "source": [
    "def max_pool_forward_naive(x,pool_param):\n",
    "    '''\n",
    "    Input:\n",
    "    -x:输入数据,(N,H,W,C)\n",
    "    -pool_param:一个字典,包含\n",
    "        -'pool_h':池化层的高度\n",
    "        -'pool_w':池化层的宽度\n",
    "        -'stride':步长\n",
    "        \n",
    "    Output:\n",
    "    -out:输出数据,(N,Hout,Wout,C)\n",
    "    -cache:(x,pool_param)\n",
    "    '''\n",
    "    N,H,W,C = x.shape\n",
    "    pool_h = pool_param['pool_h']\n",
    "    pool_w = pool_param['pool_w']\n",
    "    stride = pool_param['stride']\n",
    "    Hout = int(1+(H  - pool_h)/stride)\n",
    "    Wout = int(1+(W  - pool_w)/stride)\n",
    "    \n",
    "    out = np.zeros((N,Hout,Wout,C))\n",
    "    \n",
    "    for n in range(N):\n",
    "        for c in range(C):\n",
    "             for i in range(Hout):\n",
    "                    for j in range(Wout):\n",
    "                        out[n,i,j,c] = np.max(x[n,i*stride:i*stride + pool_h,j*stride:j*stride+pool_w,c])\n",
    "    cache = (x,pool_param)\n",
    "    return out,cache"
   ]
  },
  {
   "cell_type": "code",
   "execution_count": 23,
   "metadata": {
    "code_folding": [
     0
    ],
    "hidden": true
   },
   "outputs": [],
   "source": [
    "def max_pool_backward_naive(dout,cache):\n",
    "    '''\n",
    "    Input:\n",
    "    -dout:梯度,(N,Hout,Wout,C)\n",
    "    -cache:\n",
    "        -x:(N,H,W,C)\n",
    "        -pool_param:一个字典\n",
    "            -'pool_h':池化层的高度\n",
    "            -'pool_w':池化层的宽度\n",
    "            -'stride':步长\n",
    "    Output:\n",
    "    -dx:(N,H,W,C)\n",
    "    '''\n",
    "    x,pool_param = cache\n",
    "    N,H,W,C = x.shape\n",
    "    N,Hout,Wout,C = dout.shape\n",
    "    pool_h = pool_param['pool_h']\n",
    "    pool_w = pool_param['pool_w']\n",
    "    stride = pool_param['stride']\n",
    "    \n",
    "    dx = np.zeros_like(x)\n",
    "    for n in range(N):\n",
    "        for c in range(C):\n",
    "            for i in range(Hout):\n",
    "                for j in range(Wout):\n",
    "                    window = x[n,i*stride:i*stride + pool_h,j*stride:j*stride+pool_w,c]\n",
    "                    dx[n,i*stride:i*stride + pool_h,j*stride:j*stride+pool_w,c] = (window == np.max(window)) * dout[n,i,j,c]\n",
    "    return dx"
   ]
  },
  {
   "cell_type": "code",
   "execution_count": null,
   "metadata": {
    "hidden": true
   },
   "outputs": [],
   "source": []
  }
 ],
 "metadata": {
  "kernelspec": {
   "display_name": "Python 3",
   "language": "python",
   "name": "python3"
  },
  "language_info": {
   "codemirror_mode": {
    "name": "ipython",
    "version": 3
   },
   "file_extension": ".py",
   "mimetype": "text/x-python",
   "name": "python",
   "nbconvert_exporter": "python",
   "pygments_lexer": "ipython3",
   "version": "3.7.2"
  },
  "toc": {
   "base_numbering": 1,
   "nav_menu": {},
   "number_sections": true,
   "sideBar": true,
   "skip_h1_title": false,
   "title_cell": "Table of Contents",
   "title_sidebar": "Contents",
   "toc_cell": false,
   "toc_position": {},
   "toc_section_display": true,
   "toc_window_display": false
  },
  "varInspector": {
   "cols": {
    "lenName": 16,
    "lenType": 16,
    "lenVar": 40
   },
   "kernels_config": {
    "python": {
     "delete_cmd_postfix": "",
     "delete_cmd_prefix": "del ",
     "library": "var_list.py",
     "varRefreshCmd": "print(var_dic_list())"
    },
    "r": {
     "delete_cmd_postfix": ") ",
     "delete_cmd_prefix": "rm(",
     "library": "var_list.r",
     "varRefreshCmd": "cat(var_dic_list()) "
    }
   },
   "types_to_exclude": [
    "module",
    "function",
    "builtin_function_or_method",
    "instance",
    "_Feature"
   ],
   "window_display": false
  }
 },
 "nbformat": 4,
 "nbformat_minor": 2
}
