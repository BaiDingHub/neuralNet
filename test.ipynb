{
 "cells": [
  {
   "cell_type": "markdown",
   "metadata": {},
   "source": [
    "# 该文件对各个模块进行应用\n"
   ]
  },
  {
   "cell_type": "code",
   "execution_count": 1,
   "metadata": {},
   "outputs": [],
   "source": [
    "import numpy as np \n",
    "from load_datas import *\n",
    "import matplotlib.pyplot as plt\n",
    "import neuralNet as net\n",
    "import netParts as parts\n",
    "import Trainer "
   ]
  },
  {
   "cell_type": "markdown",
   "metadata": {},
   "source": [
    "## 数据加载"
   ]
  },
  {
   "cell_type": "code",
   "execution_count": 2,
   "metadata": {},
   "outputs": [],
   "source": [
    "X_train,Y_train,X_test,Y_test = load_data()     #加载数据"
   ]
  },
  {
   "cell_type": "code",
   "execution_count": null,
   "metadata": {},
   "outputs": [],
   "source": [
    "classes = [x for x in range(10)]\n",
    "for c in classes:\n",
    "    images = X_train[Y_train == c][:7]\n",
    "    for index,image in enumerate(images):\n",
    "        plt.subplot(7,10,index*10 + c+1)\n",
    "        plt.imshow(image.astype('uint8'))\n",
    "        plt.axis('off')\n",
    "\n",
    "plt.show()"
   ]
  },
  {
   "cell_type": "markdown",
   "metadata": {
    "heading_collapsed": true
   },
   "source": [
    "## 两层神经网络"
   ]
  },
  {
   "cell_type": "code",
   "execution_count": null,
   "metadata": {
    "hidden": true
   },
   "outputs": [],
   "source": [
    "x = X_train[:100]\n",
    "y = Y_train[:100]"
   ]
  },
  {
   "cell_type": "code",
   "execution_count": null,
   "metadata": {
    "hidden": true
   },
   "outputs": [],
   "source": [
    "net.TwoLayerNet(x,y,100,10,1e-4,100)            #两层神经网络"
   ]
  },
  {
   "cell_type": "markdown",
   "metadata": {},
   "source": [
    "## 多层神经网络"
   ]
  },
  {
   "cell_type": "code",
   "execution_count": 15,
   "metadata": {},
   "outputs": [],
   "source": [
    "model = net.FullyConnectedNets(3*32*32,[500,100],10,\n",
    "                               loss_function=parts.svm_loss,activation_function = 'relu',\n",
    "                              config = {'lr':1e-5,'momentum':0.9,'decay_rate':0.99},grad_function = net.rmsprop)   #多层神经网络"
   ]
  },
  {
   "cell_type": "code",
   "execution_count": 16,
   "metadata": {},
   "outputs": [],
   "source": [
    "x = X_train[:3000]\n",
    "y = Y_train[:3000]"
   ]
  },
  {
   "cell_type": "code",
   "execution_count": 17,
   "metadata": {},
   "outputs": [],
   "source": [
    "#loss,grads = model.loss(x,y)"
   ]
  },
  {
   "cell_type": "code",
   "execution_count": 18,
   "metadata": {},
   "outputs": [],
   "source": [
    "#print(loss)"
   ]
  },
  {
   "cell_type": "code",
   "execution_count": 19,
   "metadata": {},
   "outputs": [],
   "source": [
    "processor = Trainer.ModelProcessor(model,x,y)               #训练器"
   ]
  },
  {
   "cell_type": "code",
   "execution_count": 20,
   "metadata": {},
   "outputs": [
    {
     "name": "stdout",
     "output_type": "stream",
     "text": [
      "第 1 / 10 epoch 第 20 次迭代: loss: 8.362953929714603 ||    accuracy: 0.22\n",
      "第 1 / 10 epoch 第 40 次迭代: loss: 8.611138912748784 ||    accuracy: 0.04\n",
      "第 1 / 10 epoch 第 60 次迭代: loss: 8.54931806962174 ||    accuracy: 0.22\n",
      "第 2 / 10 epoch 第 19 次迭代: loss: 8.834684562400744 ||    accuracy: 0.12\n",
      "第 2 / 10 epoch 第 39 次迭代: loss: 7.347644467822695 ||    accuracy: 0.24\n",
      "第 2 / 10 epoch 第 59 次迭代: loss: 7.012253914387006 ||    accuracy: 0.32\n",
      "第 3 / 10 epoch 第 18 次迭代: loss: 6.7435329881634924 ||    accuracy: 0.3\n",
      "第 3 / 10 epoch 第 38 次迭代: loss: 6.445831949791751 ||    accuracy: 0.4\n",
      "第 3 / 10 epoch 第 58 次迭代: loss: 6.875907620157468 ||    accuracy: 0.3\n",
      "第 4 / 10 epoch 第 17 次迭代: loss: 8.25749383342881 ||    accuracy: 0.2\n",
      "第 4 / 10 epoch 第 37 次迭代: loss: 7.353816770287558 ||    accuracy: 0.26\n",
      "第 4 / 10 epoch 第 57 次迭代: loss: 7.390243972356837 ||    accuracy: 0.24\n",
      "第 5 / 10 epoch 第 16 次迭代: loss: 6.092752241131539 ||    accuracy: 0.28\n",
      "第 5 / 10 epoch 第 36 次迭代: loss: 6.9801498589982 ||    accuracy: 0.2\n",
      "第 5 / 10 epoch 第 56 次迭代: loss: 5.619438132515099 ||    accuracy: 0.28\n",
      "第 6 / 10 epoch 第 15 次迭代: loss: 6.904067784835904 ||    accuracy: 0.28\n",
      "第 6 / 10 epoch 第 35 次迭代: loss: 6.907729282024287 ||    accuracy: 0.26\n",
      "第 6 / 10 epoch 第 55 次迭代: loss: 7.269483392518098 ||    accuracy: 0.24\n",
      "第 7 / 10 epoch 第 14 次迭代: loss: 6.353544518042944 ||    accuracy: 0.32\n",
      "第 7 / 10 epoch 第 34 次迭代: loss: 6.865502829861199 ||    accuracy: 0.28\n",
      "第 7 / 10 epoch 第 54 次迭代: loss: 6.811858702514476 ||    accuracy: 0.28\n",
      "第 8 / 10 epoch 第 13 次迭代: loss: 6.5879083809507275 ||    accuracy: 0.3\n",
      "第 8 / 10 epoch 第 33 次迭代: loss: 6.652246690285991 ||    accuracy: 0.32\n",
      "第 8 / 10 epoch 第 53 次迭代: loss: 5.903276138578892 ||    accuracy: 0.38\n",
      "第 9 / 10 epoch 第 12 次迭代: loss: 5.102330296692781 ||    accuracy: 0.42\n",
      "第 9 / 10 epoch 第 32 次迭代: loss: 7.1400509441132805 ||    accuracy: 0.24\n",
      "第 9 / 10 epoch 第 52 次迭代: loss: 5.388627811041881 ||    accuracy: 0.38\n",
      "第 10 / 10 epoch 第 11 次迭代: loss: 6.4251048616869255 ||    accuracy: 0.36\n",
      "第 10 / 10 epoch 第 31 次迭代: loss: 6.042566673434121 ||    accuracy: 0.4\n",
      "第 10 / 10 epoch 第 51 次迭代: loss: 5.190425637378162 ||    accuracy: 0.32\n"
     ]
    }
   ],
   "source": [
    "loss_history,acc_history = processor.train(epoch=10,iterations=50,printFreq=20)"
   ]
  },
  {
   "cell_type": "code",
   "execution_count": null,
   "metadata": {},
   "outputs": [],
   "source": [
    "test_x = X_test[:100]\n",
    "test_y = Y_test[:100]"
   ]
  },
  {
   "cell_type": "code",
   "execution_count": null,
   "metadata": {},
   "outputs": [],
   "source": [
    "score,acc = model.predict(test_x,test_y)\n",
    "print(acc)"
   ]
  },
  {
   "cell_type": "code",
   "execution_count": null,
   "metadata": {},
   "outputs": [],
   "source": [
    "plt.plot(loss_history)\n",
    "plt.title('loss')\n",
    "plt.xlabel('itertions')\n",
    "plt.ylabel('loss')\n",
    "plt.show()"
   ]
  },
  {
   "cell_type": "code",
   "execution_count": null,
   "metadata": {},
   "outputs": [],
   "source": [
    "plt.plot(acc_history)\n",
    "plt.show()"
   ]
  },
  {
   "cell_type": "markdown",
   "metadata": {},
   "source": [
    "## 卷积神经网络"
   ]
  },
  {
   "cell_type": "code",
   "execution_count": null,
   "metadata": {},
   "outputs": [],
   "source": [
    "conv_dims = [(3,3,5,2,2),(3,3,3,2,2)]\n",
    "pool_dims = [(3,3,1),(3,3,1)]\n",
    "fc_dims = [500,100]\n",
    "model = net.ConvNets((32,32,3),conv_dims,pool_dims,fc_dims,10,lr = 1e-7,reg=0.6)"
   ]
  },
  {
   "cell_type": "code",
   "execution_count": null,
   "metadata": {},
   "outputs": [],
   "source": [
    "x = X_train[:3000]\n",
    "y = Y_train[:3000]"
   ]
  },
  {
   "cell_type": "code",
   "execution_count": null,
   "metadata": {},
   "outputs": [],
   "source": [
    "loss,grads = model.loss(x,y)"
   ]
  },
  {
   "cell_type": "code",
   "execution_count": null,
   "metadata": {},
   "outputs": [],
   "source": [
    "print(loss)"
   ]
  },
  {
   "cell_type": "code",
   "execution_count": null,
   "metadata": {},
   "outputs": [],
   "source": [
    "processor = Trainer.ModelProcessor(model,x,y)               #训练器"
   ]
  },
  {
   "cell_type": "code",
   "execution_count": null,
   "metadata": {},
   "outputs": [],
   "source": [
    "loss_history,acc_history = processor.train(epoch=2,iterations=1000,printFreq=1)"
   ]
  },
  {
   "cell_type": "code",
   "execution_count": null,
   "metadata": {},
   "outputs": [],
   "source": [
    "plt.plot(loss_history)\n",
    "plt.title('loss')\n",
    "plt.xlabel('itertions')\n",
    "plt.ylabel('loss')\n",
    "plt.show()"
   ]
  },
  {
   "cell_type": "code",
   "execution_count": null,
   "metadata": {},
   "outputs": [],
   "source": [
    "plt.plot(acc_history)\n",
    "plt.show()"
   ]
  },
  {
   "cell_type": "code",
   "execution_count": null,
   "metadata": {},
   "outputs": [],
   "source": []
  }
 ],
 "metadata": {
  "kernelspec": {
   "display_name": "Python 3",
   "language": "python",
   "name": "python3"
  },
  "language_info": {
   "codemirror_mode": {
    "name": "ipython",
    "version": 3
   },
   "file_extension": ".py",
   "mimetype": "text/x-python",
   "name": "python",
   "nbconvert_exporter": "python",
   "pygments_lexer": "ipython3",
   "version": "3.7.2"
  }
 },
 "nbformat": 4,
 "nbformat_minor": 2
}
